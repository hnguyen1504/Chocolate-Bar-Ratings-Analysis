{
 "cells": [
  {
   "cell_type": "markdown",
   "id": "6315e0d9",
   "metadata": {},
   "source": [
    "### 1. Importing libraries"
   ]
  },
  {
   "cell_type": "code",
   "execution_count": 2,
   "id": "615c5dbe",
   "metadata": {},
   "outputs": [],
   "source": [
    "import pandas as pd\n",
    "import numpy as np\n",
    "import seaborn as sns\n",
    "import matplotlib\n",
    "import matplotlib.pyplot as plt\n",
    "import os\n",
    "import sklearn\n",
    "from sklearn.model_selection import train_test_split \n",
    "from sklearn.linear_model import LinearRegression\n",
    "from sklearn.metrics import mean_squared_error, r2_score"
   ]
  },
  {
   "cell_type": "code",
   "execution_count": 3,
   "id": "558065f6",
   "metadata": {},
   "outputs": [],
   "source": [
    "%matplotlib inline"
   ]
  },
  {
   "cell_type": "code",
   "execution_count": 4,
   "id": "7b5d8d5d",
   "metadata": {},
   "outputs": [],
   "source": [
    "path = 'C:/Users/hnguy/OneDrive/Documents/Achievement 6'"
   ]
  },
  {
   "cell_type": "code",
   "execution_count": 5,
   "id": "f0908022",
   "metadata": {},
   "outputs": [],
   "source": [
    "df = pd.read_csv(os.path.join(path, '02 Data', 'Prepared Data', 'ratings_data_cleaned.csv'))"
   ]
  },
  {
   "cell_type": "markdown",
   "id": "46b321c1",
   "metadata": {},
   "source": [
    "### 2. Data Cleaning"
   ]
  },
  {
   "cell_type": "code",
   "execution_count": 6,
   "id": "70ca1184",
   "metadata": {},
   "outputs": [
    {
     "data": {
      "text/plain": [
       "Index(['Company/Creator', 'Specific Bean Origin', 'REF', 'Review Date',\n",
       "       'Cocoa Percent', 'Company Location', 'Rating', 'Broad Bean Origin'],\n",
       "      dtype='object')"
      ]
     },
     "execution_count": 6,
     "metadata": {},
     "output_type": "execute_result"
    }
   ],
   "source": [
    "df.columns"
   ]
  },
  {
   "cell_type": "code",
   "execution_count": 7,
   "id": "dea2fff6",
   "metadata": {},
   "outputs": [
    {
     "data": {
      "text/html": [
       "<div>\n",
       "<style scoped>\n",
       "    .dataframe tbody tr th:only-of-type {\n",
       "        vertical-align: middle;\n",
       "    }\n",
       "\n",
       "    .dataframe tbody tr th {\n",
       "        vertical-align: top;\n",
       "    }\n",
       "\n",
       "    .dataframe thead th {\n",
       "        text-align: right;\n",
       "    }\n",
       "</style>\n",
       "<table border=\"1\" class=\"dataframe\">\n",
       "  <thead>\n",
       "    <tr style=\"text-align: right;\">\n",
       "      <th></th>\n",
       "      <th>Company/Creator</th>\n",
       "      <th>Specific Bean Origin</th>\n",
       "      <th>REF</th>\n",
       "      <th>Review Date</th>\n",
       "      <th>Cocoa Percent</th>\n",
       "      <th>Company Location</th>\n",
       "      <th>Rating</th>\n",
       "      <th>Broad Bean Origin</th>\n",
       "    </tr>\n",
       "  </thead>\n",
       "  <tbody>\n",
       "    <tr>\n",
       "      <th>0</th>\n",
       "      <td>A. Morin</td>\n",
       "      <td>Agua Grande</td>\n",
       "      <td>1876</td>\n",
       "      <td>2016</td>\n",
       "      <td>0.63</td>\n",
       "      <td>France</td>\n",
       "      <td>3.75</td>\n",
       "      <td>Sao Tome</td>\n",
       "    </tr>\n",
       "    <tr>\n",
       "      <th>1</th>\n",
       "      <td>A. Morin</td>\n",
       "      <td>Kpime</td>\n",
       "      <td>1676</td>\n",
       "      <td>2015</td>\n",
       "      <td>0.70</td>\n",
       "      <td>France</td>\n",
       "      <td>2.75</td>\n",
       "      <td>Togo</td>\n",
       "    </tr>\n",
       "    <tr>\n",
       "      <th>2</th>\n",
       "      <td>A. Morin</td>\n",
       "      <td>Atsane</td>\n",
       "      <td>1676</td>\n",
       "      <td>2015</td>\n",
       "      <td>0.70</td>\n",
       "      <td>France</td>\n",
       "      <td>3.00</td>\n",
       "      <td>Togo</td>\n",
       "    </tr>\n",
       "    <tr>\n",
       "      <th>3</th>\n",
       "      <td>A. Morin</td>\n",
       "      <td>Akata</td>\n",
       "      <td>1680</td>\n",
       "      <td>2015</td>\n",
       "      <td>0.70</td>\n",
       "      <td>France</td>\n",
       "      <td>3.50</td>\n",
       "      <td>Togo</td>\n",
       "    </tr>\n",
       "    <tr>\n",
       "      <th>4</th>\n",
       "      <td>A. Morin</td>\n",
       "      <td>Quilla</td>\n",
       "      <td>1704</td>\n",
       "      <td>2015</td>\n",
       "      <td>0.70</td>\n",
       "      <td>France</td>\n",
       "      <td>3.50</td>\n",
       "      <td>Peru</td>\n",
       "    </tr>\n",
       "    <tr>\n",
       "      <th>5</th>\n",
       "      <td>A. Morin</td>\n",
       "      <td>Carenero</td>\n",
       "      <td>1315</td>\n",
       "      <td>2014</td>\n",
       "      <td>0.70</td>\n",
       "      <td>France</td>\n",
       "      <td>2.75</td>\n",
       "      <td>Venezuela</td>\n",
       "    </tr>\n",
       "    <tr>\n",
       "      <th>6</th>\n",
       "      <td>A. Morin</td>\n",
       "      <td>Cuba</td>\n",
       "      <td>1315</td>\n",
       "      <td>2014</td>\n",
       "      <td>0.70</td>\n",
       "      <td>France</td>\n",
       "      <td>3.50</td>\n",
       "      <td>Cuba</td>\n",
       "    </tr>\n",
       "    <tr>\n",
       "      <th>7</th>\n",
       "      <td>A. Morin</td>\n",
       "      <td>Sur del Lago</td>\n",
       "      <td>1315</td>\n",
       "      <td>2014</td>\n",
       "      <td>0.70</td>\n",
       "      <td>France</td>\n",
       "      <td>3.50</td>\n",
       "      <td>Venezuela</td>\n",
       "    </tr>\n",
       "    <tr>\n",
       "      <th>8</th>\n",
       "      <td>A. Morin</td>\n",
       "      <td>Puerto Cabello</td>\n",
       "      <td>1319</td>\n",
       "      <td>2014</td>\n",
       "      <td>0.70</td>\n",
       "      <td>France</td>\n",
       "      <td>3.75</td>\n",
       "      <td>Venezuela</td>\n",
       "    </tr>\n",
       "    <tr>\n",
       "      <th>9</th>\n",
       "      <td>A. Morin</td>\n",
       "      <td>Pablino</td>\n",
       "      <td>1319</td>\n",
       "      <td>2014</td>\n",
       "      <td>0.70</td>\n",
       "      <td>France</td>\n",
       "      <td>4.00</td>\n",
       "      <td>Peru</td>\n",
       "    </tr>\n",
       "    <tr>\n",
       "      <th>10</th>\n",
       "      <td>A. Morin</td>\n",
       "      <td>Panama</td>\n",
       "      <td>1011</td>\n",
       "      <td>2013</td>\n",
       "      <td>0.70</td>\n",
       "      <td>France</td>\n",
       "      <td>2.75</td>\n",
       "      <td>Panama</td>\n",
       "    </tr>\n",
       "    <tr>\n",
       "      <th>11</th>\n",
       "      <td>A. Morin</td>\n",
       "      <td>Madagascar</td>\n",
       "      <td>1011</td>\n",
       "      <td>2013</td>\n",
       "      <td>0.70</td>\n",
       "      <td>France</td>\n",
       "      <td>3.00</td>\n",
       "      <td>Madagascar</td>\n",
       "    </tr>\n",
       "    <tr>\n",
       "      <th>12</th>\n",
       "      <td>A. Morin</td>\n",
       "      <td>Brazil</td>\n",
       "      <td>1011</td>\n",
       "      <td>2013</td>\n",
       "      <td>0.70</td>\n",
       "      <td>France</td>\n",
       "      <td>3.25</td>\n",
       "      <td>Brazil</td>\n",
       "    </tr>\n",
       "    <tr>\n",
       "      <th>13</th>\n",
       "      <td>A. Morin</td>\n",
       "      <td>Equateur</td>\n",
       "      <td>1011</td>\n",
       "      <td>2013</td>\n",
       "      <td>0.70</td>\n",
       "      <td>France</td>\n",
       "      <td>3.75</td>\n",
       "      <td>Ecuador</td>\n",
       "    </tr>\n",
       "    <tr>\n",
       "      <th>14</th>\n",
       "      <td>A. Morin</td>\n",
       "      <td>Colombie</td>\n",
       "      <td>1015</td>\n",
       "      <td>2013</td>\n",
       "      <td>0.70</td>\n",
       "      <td>France</td>\n",
       "      <td>2.75</td>\n",
       "      <td>Colombia</td>\n",
       "    </tr>\n",
       "    <tr>\n",
       "      <th>15</th>\n",
       "      <td>A. Morin</td>\n",
       "      <td>Birmanie</td>\n",
       "      <td>1015</td>\n",
       "      <td>2013</td>\n",
       "      <td>0.70</td>\n",
       "      <td>France</td>\n",
       "      <td>3.00</td>\n",
       "      <td>Burma</td>\n",
       "    </tr>\n",
       "    <tr>\n",
       "      <th>16</th>\n",
       "      <td>A. Morin</td>\n",
       "      <td>Papua New Guinea</td>\n",
       "      <td>1015</td>\n",
       "      <td>2013</td>\n",
       "      <td>0.70</td>\n",
       "      <td>France</td>\n",
       "      <td>3.25</td>\n",
       "      <td>Papua New Guinea</td>\n",
       "    </tr>\n",
       "    <tr>\n",
       "      <th>17</th>\n",
       "      <td>A. Morin</td>\n",
       "      <td>Chuao</td>\n",
       "      <td>1015</td>\n",
       "      <td>2013</td>\n",
       "      <td>0.70</td>\n",
       "      <td>France</td>\n",
       "      <td>4.00</td>\n",
       "      <td>Venezuela</td>\n",
       "    </tr>\n",
       "    <tr>\n",
       "      <th>18</th>\n",
       "      <td>A. Morin</td>\n",
       "      <td>Piura</td>\n",
       "      <td>1019</td>\n",
       "      <td>2013</td>\n",
       "      <td>0.70</td>\n",
       "      <td>France</td>\n",
       "      <td>3.25</td>\n",
       "      <td>Peru</td>\n",
       "    </tr>\n",
       "    <tr>\n",
       "      <th>19</th>\n",
       "      <td>A. Morin</td>\n",
       "      <td>Chanchamayo Province</td>\n",
       "      <td>1019</td>\n",
       "      <td>2013</td>\n",
       "      <td>0.70</td>\n",
       "      <td>France</td>\n",
       "      <td>3.50</td>\n",
       "      <td>Peru</td>\n",
       "    </tr>\n",
       "  </tbody>\n",
       "</table>\n",
       "</div>"
      ],
      "text/plain": [
       "   Company/Creator  Specific Bean Origin   REF  Review Date  Cocoa Percent  \\\n",
       "0         A. Morin           Agua Grande  1876         2016           0.63   \n",
       "1         A. Morin                 Kpime  1676         2015           0.70   \n",
       "2         A. Morin                Atsane  1676         2015           0.70   \n",
       "3         A. Morin                 Akata  1680         2015           0.70   \n",
       "4         A. Morin                Quilla  1704         2015           0.70   \n",
       "5         A. Morin              Carenero  1315         2014           0.70   \n",
       "6         A. Morin                  Cuba  1315         2014           0.70   \n",
       "7         A. Morin          Sur del Lago  1315         2014           0.70   \n",
       "8         A. Morin        Puerto Cabello  1319         2014           0.70   \n",
       "9         A. Morin               Pablino  1319         2014           0.70   \n",
       "10        A. Morin                Panama  1011         2013           0.70   \n",
       "11        A. Morin            Madagascar  1011         2013           0.70   \n",
       "12        A. Morin                Brazil  1011         2013           0.70   \n",
       "13        A. Morin              Equateur  1011         2013           0.70   \n",
       "14        A. Morin              Colombie  1015         2013           0.70   \n",
       "15        A. Morin              Birmanie  1015         2013           0.70   \n",
       "16        A. Morin      Papua New Guinea  1015         2013           0.70   \n",
       "17        A. Morin                 Chuao  1015         2013           0.70   \n",
       "18        A. Morin                 Piura  1019         2013           0.70   \n",
       "19        A. Morin  Chanchamayo Province  1019         2013           0.70   \n",
       "\n",
       "   Company Location  Rating Broad Bean Origin  \n",
       "0            France    3.75          Sao Tome  \n",
       "1            France    2.75              Togo  \n",
       "2            France    3.00              Togo  \n",
       "3            France    3.50              Togo  \n",
       "4            France    3.50              Peru  \n",
       "5            France    2.75         Venezuela  \n",
       "6            France    3.50              Cuba  \n",
       "7            France    3.50         Venezuela  \n",
       "8            France    3.75         Venezuela  \n",
       "9            France    4.00              Peru  \n",
       "10           France    2.75            Panama  \n",
       "11           France    3.00        Madagascar  \n",
       "12           France    3.25            Brazil  \n",
       "13           France    3.75           Ecuador  \n",
       "14           France    2.75          Colombia  \n",
       "15           France    3.00             Burma  \n",
       "16           France    3.25  Papua New Guinea  \n",
       "17           France    4.00         Venezuela  \n",
       "18           France    3.25              Peru  \n",
       "19           France    3.50              Peru  "
      ]
     },
     "execution_count": 7,
     "metadata": {},
     "output_type": "execute_result"
    }
   ],
   "source": [
    "df.head(20)"
   ]
  },
  {
   "cell_type": "code",
   "execution_count": 8,
   "id": "6cab8a7d",
   "metadata": {},
   "outputs": [
    {
     "data": {
      "text/plain": [
       "(1795, 8)"
      ]
     },
     "execution_count": 8,
     "metadata": {},
     "output_type": "execute_result"
    }
   ],
   "source": [
    "df.shape"
   ]
  },
  {
   "cell_type": "code",
   "execution_count": 9,
   "id": "5c5691b8",
   "metadata": {},
   "outputs": [
    {
     "data": {
      "text/plain": [
       "Company/Creator          0\n",
       "Specific Bean Origin     0\n",
       "REF                      0\n",
       "Review Date              0\n",
       "Cocoa Percent            0\n",
       "Company Location         0\n",
       "Rating                   0\n",
       "Broad Bean Origin       74\n",
       "dtype: int64"
      ]
     },
     "execution_count": 9,
     "metadata": {},
     "output_type": "execute_result"
    }
   ],
   "source": [
    "df.isnull().sum()"
   ]
  },
  {
   "cell_type": "code",
   "execution_count": 10,
   "id": "acbb3638",
   "metadata": {},
   "outputs": [],
   "source": [
    "dups = df.duplicated()"
   ]
  },
  {
   "cell_type": "code",
   "execution_count": 11,
   "id": "af7d0ba1",
   "metadata": {},
   "outputs": [
    {
     "data": {
      "text/plain": [
       "(1795,)"
      ]
     },
     "execution_count": 11,
     "metadata": {},
     "output_type": "execute_result"
    }
   ],
   "source": [
    "dups.shape # No dups"
   ]
  },
  {
   "cell_type": "code",
   "execution_count": 12,
   "id": "1c7d4bdd",
   "metadata": {},
   "outputs": [
    {
     "name": "stderr",
     "output_type": "stream",
     "text": [
      "C:\\Users\\hnguy\\anaconda3\\lib\\site-packages\\seaborn\\distributions.py:2619: FutureWarning: `distplot` is a deprecated function and will be removed in a future version. Please adapt your code to use either `displot` (a figure-level function with similar flexibility) or `histplot` (an axes-level function for histograms).\n",
      "  warnings.warn(msg, FutureWarning)\n"
     ]
    },
    {
     "data": {
      "text/plain": [
       "<AxesSubplot:xlabel='Cocoa Percent', ylabel='Density'>"
      ]
     },
     "execution_count": 12,
     "metadata": {},
     "output_type": "execute_result"
    },
    {
     "data": {
      "image/png": "[encoded data removed]",
      "text/plain": [
       "<Figure size 640x480 with 1 Axes>"
      ]
     },
     "metadata": {},
     "output_type": "display_data"
    }
   ],
   "source": [
    "sns.distplot(df['Cocoa Percent'], bins=25) # Shows extreme values"
   ]
  },
  {
   "cell_type": "code",
   "execution_count": 13,
   "id": "34c80b35",
   "metadata": {},
   "outputs": [
    {
     "data": {
      "text/plain": [
       "0.7170027855153318"
      ]
     },
     "execution_count": 13,
     "metadata": {},
     "output_type": "execute_result"
    }
   ],
   "source": [
    "df['Cocoa Percent'].mean() # Check the mean"
   ]
  },
  {
   "cell_type": "code",
   "execution_count": 14,
   "id": "26f6b675",
   "metadata": {},
   "outputs": [
    {
     "data": {
      "text/plain": [
       "0.7"
      ]
     },
     "execution_count": 14,
     "metadata": {},
     "output_type": "execute_result"
    }
   ],
   "source": [
    "df['Cocoa Percent'].median() # Check the median"
   ]
  },
  {
   "cell_type": "code",
   "execution_count": 15,
   "id": "e8609a25",
   "metadata": {},
   "outputs": [
    {
     "data": {
      "text/plain": [
       "1.0"
      ]
     },
     "execution_count": 15,
     "metadata": {},
     "output_type": "execute_result"
    }
   ],
   "source": [
    "df['Cocoa Percent'].max() # Check the max"
   ]
  },
  {
   "cell_type": "code",
   "execution_count": 16,
   "id": "e5f0492a",
   "metadata": {},
   "outputs": [
    {
     "name": "stderr",
     "output_type": "stream",
     "text": [
      "C:\\Users\\hnguy\\anaconda3\\lib\\site-packages\\seaborn\\distributions.py:2619: FutureWarning: `distplot` is a deprecated function and will be removed in a future version. Please adapt your code to use either `displot` (a figure-level function with similar flexibility) or `histplot` (an axes-level function for histograms).\n",
      "  warnings.warn(msg, FutureWarning)\n"
     ]
    },
    {
     "data": {
      "text/plain": [
       "<AxesSubplot:xlabel='Rating', ylabel='Density'>"
      ]
     },
     "execution_count": 16,
     "metadata": {},
     "output_type": "execute_result"
    },
    {
     "data": {
      "image/png": "[encoded data removed]",
      "text/plain": [
       "<Figure size 640x480 with 1 Axes>"
      ]
     },
     "metadata": {},
     "output_type": "display_data"
    }
   ],
   "source": [
    "sns.distplot(df['Rating'], bins=25) # Shows extreme values"
   ]
  },
  {
   "cell_type": "code",
   "execution_count": 18,
   "id": "f90216ce",
   "metadata": {},
   "outputs": [
    {
     "data": {
      "text/plain": [
       "3.185933147632312"
      ]
     },
     "execution_count": 18,
     "metadata": {},
     "output_type": "execute_result"
    }
   ],
   "source": [
    "df['Rating'].mean() # Check the mean"
   ]
  },
  {
   "cell_type": "code",
   "execution_count": 19,
   "id": "127cb1bd",
   "metadata": {},
   "outputs": [
    {
     "data": {
      "text/plain": [
       "3.25"
      ]
     },
     "execution_count": 19,
     "metadata": {},
     "output_type": "execute_result"
    }
   ],
   "source": [
    "df['Rating'].median() # Check the median"
   ]
  },
  {
   "cell_type": "code",
   "execution_count": 21,
   "id": "a9b0acb2",
   "metadata": {},
   "outputs": [
    {
     "data": {
      "text/plain": [
       "5.0"
      ]
     },
     "execution_count": 21,
     "metadata": {},
     "output_type": "execute_result"
    }
   ],
   "source": [
    "df['Rating'].max() # Check the max"
   ]
  },
  {
   "cell_type": "markdown",
   "id": "c3db8c65",
   "metadata": {},
   "source": [
    "### 3. Data Prep for Regression Analysis"
   ]
  },
  {
   "cell_type": "code",
   "execution_count": 22,
   "id": "e194bd12",
   "metadata": {},
   "outputs": [
    {
     "data": {
      "image/png": "[encoded data removed]",
      "text/plain": [
       "<Figure size 640x480 with 1 Axes>"
      ]
     },
     "metadata": {},
     "output_type": "display_data"
    }
   ],
   "source": [
    "df.plot(x = 'Cocoa Percent', y='Rating',style='o') # The style option creates a scatterplot\n",
    "plt.title('Cocoa Percent vs Rating')  \n",
    "plt.xlabel('Cocoa Percent')  \n",
    "plt.ylabel('Rating')  \n",
    "plt.show()"
   ]
  },
  {
   "cell_type": "markdown",
   "id": "8c171c1f",
   "metadata": {},
   "source": [
    "### Hypothesis : Chocolate bar with higher cocoa percentage will have higher ratings."
   ]
  },
  {
   "cell_type": "code",
   "execution_count": 23,
   "id": "113913ba",
   "metadata": {},
   "outputs": [],
   "source": [
    "# Reshape the variables into NumPy arrays and put them into separate objects.\n",
    "\n",
    "X = df['Cocoa Percent'].values.reshape(-1,1)\n",
    "y = df['Rating'].values.reshape(-1,1)"
   ]
  },
  {
   "cell_type": "code",
   "execution_count": 24,
   "id": "b4b9e1c5",
   "metadata": {},
   "outputs": [
    {
     "data": {
      "text/plain": [
       "array([[0.63],\n",
       "       [0.7 ],\n",
       "       [0.7 ],\n",
       "       ...,\n",
       "       [0.65],\n",
       "       [0.62],\n",
       "       [0.65]])"
      ]
     },
     "execution_count": 24,
     "metadata": {},
     "output_type": "execute_result"
    }
   ],
   "source": [
    "X"
   ]
  },
  {
   "cell_type": "code",
   "execution_count": 25,
   "id": "b5dfdb03",
   "metadata": {},
   "outputs": [
    {
     "data": {
      "text/plain": [
       "array([[3.75],\n",
       "       [2.75],\n",
       "       [3.  ],\n",
       "       ...,\n",
       "       [3.5 ],\n",
       "       [3.25],\n",
       "       [3.  ]])"
      ]
     },
     "execution_count": 25,
     "metadata": {},
     "output_type": "execute_result"
    }
   ],
   "source": [
    "y"
   ]
  },
  {
   "cell_type": "code",
   "execution_count": 26,
   "id": "ec284e0a",
   "metadata": {},
   "outputs": [],
   "source": [
    "# Split data into a training set and a test set.\n",
    "\n",
    "X_train, X_test, y_train, y_test = train_test_split(X, y, test_size=0.3, random_state=0)"
   ]
  },
  {
   "cell_type": "markdown",
   "id": "f5470e00",
   "metadata": {},
   "source": [
    "### 4. Regression Analysis"
   ]
  },
  {
   "cell_type": "code",
   "execution_count": 27,
   "id": "dbca2dc5",
   "metadata": {},
   "outputs": [],
   "source": [
    "# Create a regression object.\n",
    "\n",
    "regression = LinearRegression()"
   ]
  },
  {
   "cell_type": "code",
   "execution_count": 28,
   "id": "de38ba93",
   "metadata": {},
   "outputs": [
    {
     "data": {
      "text/plain": [
       "LinearRegression()"
      ]
     },
     "execution_count": 28,
     "metadata": {},
     "output_type": "execute_result"
    }
   ],
   "source": [
    "# Fit the regression object onto the training set.\n",
    "\n",
    "regression.fit(X_train, y_train)"
   ]
  },
  {
   "cell_type": "code",
   "execution_count": 29,
   "id": "a8ec9c21",
   "metadata": {},
   "outputs": [],
   "source": [
    "# Predict the values of y using X.\n",
    "\n",
    "y_predicted = regression.predict(X_test)"
   ]
  },
  {
   "cell_type": "code",
   "execution_count": 30,
   "id": "2ae26a0b",
   "metadata": {},
   "outputs": [
    {
     "data": {
      "image/png": "[encoded data removed]",
      "text/plain": [
       "<Figure size 640x480 with 1 Axes>"
      ]
     },
     "metadata": {},
     "output_type": "display_data"
    }
   ],
   "source": [
    "# Create a plot that shows the regression line from the model on the test set.\n",
    "\n",
    "plot_test = plt\n",
    "plot_test.scatter(X_test, y_test, color='gray', s = 15)\n",
    "plot_test.plot(X_test, y_predicted, color='red', linewidth =3)\n",
    "plot_test.title('Cocoa Percent vs Rating (Test set)')\n",
    "plot_test.xlabel('Cocoa Percent')\n",
    "plot_test.ylabel('Rating')\n",
    "plot_test.show()"
   ]
  },
  {
   "cell_type": "markdown",
   "id": "b57a0160",
   "metadata": {},
   "source": [
    "The line does not fit well with the data since there are many data points that are far away from it."
   ]
  },
  {
   "cell_type": "code",
   "execution_count": 31,
   "id": "7abfadd6",
   "metadata": {},
   "outputs": [],
   "source": [
    "# Create objects that contain the model summary statistics.\n",
    "\n",
    "rmse = mean_squared_error(y_test, y_predicted) # This is the mean squared error\n",
    "r2 = r2_score(y_test, y_predicted) # This is the R2 score. "
   ]
  },
  {
   "cell_type": "code",
   "execution_count": 32,
   "id": "029cb772",
   "metadata": {},
   "outputs": [
    {
     "name": "stdout",
     "output_type": "stream",
     "text": [
      "Slope: [[-1.31614192]]\n",
      "Mean squared error:  0.20955355353948135\n",
      "R2 score:  0.018023691778551565\n"
     ]
    }
   ],
   "source": [
    "# Print the model summary statistics. \n",
    "\n",
    "print('Slope:' ,regression.coef_)\n",
    "print('Mean squared error: ', rmse)\n",
    "print('R2 score: ', r2)"
   ]
  },
  {
   "cell_type": "code",
   "execution_count": 33,
   "id": "03cd31f3",
   "metadata": {},
   "outputs": [
    {
     "data": {
      "text/plain": [
       "array([[3.13539077],\n",
       "       [3.17487503],\n",
       "       [3.20119787],\n",
       "       [3.20119787],\n",
       "       [3.06958367],\n",
       "       [3.39861915],\n",
       "       [3.20119787],\n",
       "       [3.13539077],\n",
       "       [3.25384354],\n",
       "       [3.26700496],\n",
       "       [3.28016638],\n",
       "       [3.20119787],\n",
       "       [3.26700496],\n",
       "       [3.20119787],\n",
       "       [3.13539077],\n",
       "       [3.06958367],\n",
       "       [3.00377658],\n",
       "       [3.17487503],\n",
       "       [3.20119787],\n",
       "       [3.20119787],\n",
       "       [3.20119787],\n",
       "       [3.16171361],\n",
       "       [3.39861915],\n",
       "       [2.80635529],\n",
       "       [3.33281206],\n",
       "       [3.13539077],\n",
       "       [3.13539077],\n",
       "       [3.2275207 ],\n",
       "       [3.20119787],\n",
       "       [3.2275207 ],\n",
       "       [3.17487503],\n",
       "       [3.20119787],\n",
       "       [3.20119787],\n",
       "       [3.20119787],\n",
       "       [3.13539077],\n",
       "       [3.20119787],\n",
       "       [3.17487503],\n",
       "       [3.28016638],\n",
       "       [3.17487503],\n",
       "       [3.20119787],\n",
       "       [3.13539077],\n",
       "       [3.26700496],\n",
       "       [3.20119787],\n",
       "       [3.39861915],\n",
       "       [3.20119787],\n",
       "       [3.33281206],\n",
       "       [3.10906793],\n",
       "       [3.13539077],\n",
       "       [3.20119787],\n",
       "       [3.20119787],\n",
       "       [3.20119787],\n",
       "       [3.13539077],\n",
       "       [3.16171361],\n",
       "       [3.30648922],\n",
       "       [3.17487503],\n",
       "       [3.20119787],\n",
       "       [3.17487503],\n",
       "       [3.17487503],\n",
       "       [3.18803645],\n",
       "       [3.03009942],\n",
       "       [3.20119787],\n",
       "       [3.13539077],\n",
       "       [3.08274509],\n",
       "       [3.17487503],\n",
       "       [3.20119787],\n",
       "       [3.20119787],\n",
       "       [3.13539077],\n",
       "       [3.10906793],\n",
       "       [3.2275207 ],\n",
       "       [3.20119787],\n",
       "       [3.00377658],\n",
       "       [3.2275207 ],\n",
       "       [3.14855219],\n",
       "       [3.20119787],\n",
       "       [3.16171361],\n",
       "       [2.80635529],\n",
       "       [3.20119787],\n",
       "       [3.3591349 ],\n",
       "       [3.20119787],\n",
       "       [3.13539077],\n",
       "       [3.20119787],\n",
       "       [3.00377658],\n",
       "       [3.13539077],\n",
       "       [3.20119787],\n",
       "       [3.20119787],\n",
       "       [3.20119787],\n",
       "       [3.17487503],\n",
       "       [3.17487503],\n",
       "       [3.20119787],\n",
       "       [3.33281206],\n",
       "       [3.12222935],\n",
       "       [3.20119787],\n",
       "       [3.26700496],\n",
       "       [3.33281206],\n",
       "       [3.12222935],\n",
       "       [3.20119787],\n",
       "       [3.20119787],\n",
       "       [3.33281206],\n",
       "       [3.20119787],\n",
       "       [3.05642225],\n",
       "       [3.17487503],\n",
       "       [3.16171361],\n",
       "       [3.20119787],\n",
       "       [3.17487503],\n",
       "       [3.13539077],\n",
       "       [3.00377658],\n",
       "       [3.03009942],\n",
       "       [3.20119787],\n",
       "       [3.12222935],\n",
       "       [3.20119787],\n",
       "       [3.13539077],\n",
       "       [3.20119787],\n",
       "       [3.20119787],\n",
       "       [3.20119787],\n",
       "       [3.20119787],\n",
       "       [3.17487503],\n",
       "       [3.20119787],\n",
       "       [3.20119787],\n",
       "       [3.20119787],\n",
       "       [3.16171361],\n",
       "       [3.26700496],\n",
       "       [3.17487503],\n",
       "       [3.20119787],\n",
       "       [3.20119787],\n",
       "       [3.17487503],\n",
       "       [3.20119787],\n",
       "       [3.06958367],\n",
       "       [3.20119787],\n",
       "       [3.14855219],\n",
       "       [3.20119787],\n",
       "       [3.13539077],\n",
       "       [3.17487503],\n",
       "       [3.13539077],\n",
       "       [3.17487503],\n",
       "       [3.13539077],\n",
       "       [3.20119787],\n",
       "       [3.06958367],\n",
       "       [3.17487503],\n",
       "       [3.33281206],\n",
       "       [3.13539077],\n",
       "       [3.20119787],\n",
       "       [3.17487503],\n",
       "       [3.20119787],\n",
       "       [3.20119787],\n",
       "       [3.20119787],\n",
       "       [3.10906793],\n",
       "       [3.20119787],\n",
       "       [3.20119787],\n",
       "       [3.14855219],\n",
       "       [3.17487503],\n",
       "       [3.20119787],\n",
       "       [3.20119787],\n",
       "       [3.20119787],\n",
       "       [3.20119787],\n",
       "       [3.20119787],\n",
       "       [3.21435929],\n",
       "       [3.18803645],\n",
       "       [3.13539077],\n",
       "       [3.10906793],\n",
       "       [3.28016638],\n",
       "       [3.13539077],\n",
       "       [2.80635529],\n",
       "       [3.13539077],\n",
       "       [3.06958367],\n",
       "       [3.20119787],\n",
       "       [3.20119787],\n",
       "       [3.20119787],\n",
       "       [3.20119787],\n",
       "       [3.13539077],\n",
       "       [3.39861915],\n",
       "       [3.14855219],\n",
       "       [3.20119787],\n",
       "       [2.80635529],\n",
       "       [3.25384354],\n",
       "       [3.13539077],\n",
       "       [3.17487503],\n",
       "       [3.17487503],\n",
       "       [3.2275207 ],\n",
       "       [3.17487503],\n",
       "       [3.20119787],\n",
       "       [3.26700496],\n",
       "       [3.20119787],\n",
       "       [3.20119787],\n",
       "       [3.14855219],\n",
       "       [3.13539077],\n",
       "       [3.20119787],\n",
       "       [3.16171361],\n",
       "       [3.17487503],\n",
       "       [3.17487503],\n",
       "       [3.14855219],\n",
       "       [3.26700496],\n",
       "       [3.17487503],\n",
       "       [3.20119787],\n",
       "       [3.18803645],\n",
       "       [3.13539077],\n",
       "       [3.20119787],\n",
       "       [3.13539077],\n",
       "       [3.13539077],\n",
       "       [3.26700496],\n",
       "       [3.20119787],\n",
       "       [3.17487503],\n",
       "       [3.16171361],\n",
       "       [3.20119787],\n",
       "       [3.26700496],\n",
       "       [3.20119787],\n",
       "       [3.06958367],\n",
       "       [3.17487503],\n",
       "       [3.28016638],\n",
       "       [3.06958367],\n",
       "       [3.16171361],\n",
       "       [3.20119787],\n",
       "       [3.20119787],\n",
       "       [3.10906793],\n",
       "       [3.17487503],\n",
       "       [3.14855219],\n",
       "       [3.20119787],\n",
       "       [3.20119787],\n",
       "       [3.13539077],\n",
       "       [3.17487503],\n",
       "       [3.20119787],\n",
       "       [3.20119787],\n",
       "       [3.20119787],\n",
       "       [3.20119787],\n",
       "       [3.20119787],\n",
       "       [3.13539077],\n",
       "       [3.20119787],\n",
       "       [3.2275207 ],\n",
       "       [3.00377658],\n",
       "       [3.13539077],\n",
       "       [3.20119787],\n",
       "       [3.20119787],\n",
       "       [3.06958367],\n",
       "       [3.10906793],\n",
       "       [3.17487503],\n",
       "       [3.20119787],\n",
       "       [3.00377658],\n",
       "       [3.00377658],\n",
       "       [3.13539077],\n",
       "       [3.16171361],\n",
       "       [3.00377658],\n",
       "       [3.2933278 ],\n",
       "       [3.17487503],\n",
       "       [3.33281206],\n",
       "       [3.2275207 ],\n",
       "       [3.20119787],\n",
       "       [3.28016638],\n",
       "       [3.17487503],\n",
       "       [3.20119787],\n",
       "       [3.28016638],\n",
       "       [3.20119787],\n",
       "       [3.13539077],\n",
       "       [3.17487503],\n",
       "       [3.20119787],\n",
       "       [3.33281206],\n",
       "       [3.20119787],\n",
       "       [3.20119787],\n",
       "       [3.20119787],\n",
       "       [3.2275207 ],\n",
       "       [3.33281206],\n",
       "       [3.17487503],\n",
       "       [3.26700496],\n",
       "       [3.20119787],\n",
       "       [3.13539077],\n",
       "       [3.016938  ],\n",
       "       [3.20119787],\n",
       "       [3.25384354],\n",
       "       [3.2275207 ],\n",
       "       [3.17487503],\n",
       "       [3.13539077],\n",
       "       [3.13539077],\n",
       "       [3.20119787],\n",
       "       [3.26700496],\n",
       "       [3.17487503],\n",
       "       [3.20119787],\n",
       "       [3.20119787],\n",
       "       [3.13539077],\n",
       "       [3.25384354],\n",
       "       [3.20119787],\n",
       "       [3.20119787],\n",
       "       [3.30648922],\n",
       "       [3.20119787],\n",
       "       [3.20119787],\n",
       "       [3.17487503],\n",
       "       [3.13539077],\n",
       "       [3.16171361],\n",
       "       [3.20119787],\n",
       "       [3.2275207 ],\n",
       "       [3.20119787],\n",
       "       [3.18803645],\n",
       "       [3.17487503],\n",
       "       [3.09590651],\n",
       "       [3.16171361],\n",
       "       [3.20119787],\n",
       "       [3.26700496],\n",
       "       [3.20119787],\n",
       "       [3.20119787],\n",
       "       [3.20119787],\n",
       "       [3.13539077],\n",
       "       [3.13539077],\n",
       "       [3.17487503],\n",
       "       [3.2275207 ],\n",
       "       [3.20119787],\n",
       "       [3.06958367],\n",
       "       [3.17487503],\n",
       "       [3.14855219],\n",
       "       [3.20119787],\n",
       "       [3.26700496],\n",
       "       [3.20119787],\n",
       "       [3.26700496],\n",
       "       [3.13539077],\n",
       "       [3.13539077],\n",
       "       [3.33281206],\n",
       "       [3.2275207 ],\n",
       "       [3.24068212],\n",
       "       [3.20119787],\n",
       "       [3.28016638],\n",
       "       [3.20119787],\n",
       "       [3.20119787],\n",
       "       [3.13539077],\n",
       "       [3.20119787],\n",
       "       [3.00377658],\n",
       "       [3.20119787],\n",
       "       [3.13539077],\n",
       "       [3.16171361],\n",
       "       [3.12222935],\n",
       "       [3.14855219],\n",
       "       [3.13539077],\n",
       "       [3.13539077],\n",
       "       [3.14855219],\n",
       "       [3.13539077],\n",
       "       [3.14855219],\n",
       "       [3.20119787],\n",
       "       [3.20119787],\n",
       "       [3.06958367],\n",
       "       [3.06958367],\n",
       "       [3.31965064],\n",
       "       [3.20119787],\n",
       "       [3.13539077],\n",
       "       [2.92480806],\n",
       "       [3.17487503],\n",
       "       [3.20119787],\n",
       "       [3.17487503],\n",
       "       [3.20119787],\n",
       "       [3.20119787],\n",
       "       [3.00377658],\n",
       "       [3.2275207 ],\n",
       "       [3.2933278 ],\n",
       "       [3.17487503],\n",
       "       [3.13539077],\n",
       "       [3.20119787],\n",
       "       [3.04326084],\n",
       "       [3.09590651],\n",
       "       [3.17487503],\n",
       "       [3.20119787],\n",
       "       [3.30648922],\n",
       "       [3.33281206],\n",
       "       [2.80635529],\n",
       "       [3.10906793],\n",
       "       [3.06958367],\n",
       "       [3.13539077],\n",
       "       [3.20119787],\n",
       "       [3.17487503],\n",
       "       [3.12222935],\n",
       "       [3.00377658],\n",
       "       [3.20119787],\n",
       "       [3.20119787],\n",
       "       [3.13539077],\n",
       "       [3.20119787],\n",
       "       [3.20119787],\n",
       "       [3.20119787],\n",
       "       [3.20119787],\n",
       "       [3.17487503],\n",
       "       [3.20119787],\n",
       "       [3.20119787],\n",
       "       [3.20119787],\n",
       "       [3.28016638],\n",
       "       [3.20119787],\n",
       "       [3.17487503],\n",
       "       [3.10906793],\n",
       "       [3.24068212],\n",
       "       [3.24068212],\n",
       "       [3.20119787],\n",
       "       [3.06958367],\n",
       "       [3.26700496],\n",
       "       [3.13539077],\n",
       "       [3.26700496],\n",
       "       [3.20119787],\n",
       "       [3.09590651],\n",
       "       [3.39861915],\n",
       "       [3.20119787],\n",
       "       [3.20119787],\n",
       "       [3.13539077],\n",
       "       [3.20119787],\n",
       "       [3.17487503],\n",
       "       [3.20119787],\n",
       "       [3.04326084],\n",
       "       [3.20119787],\n",
       "       [3.20119787],\n",
       "       [3.20119787],\n",
       "       [3.20119787],\n",
       "       [3.06958367],\n",
       "       [3.06958367],\n",
       "       [3.17487503],\n",
       "       [3.00377658],\n",
       "       [3.20119787],\n",
       "       [3.2933278 ],\n",
       "       [3.2275207 ],\n",
       "       [3.33281206],\n",
       "       [3.20119787],\n",
       "       [3.2275207 ],\n",
       "       [3.20119787],\n",
       "       [3.09590651],\n",
       "       [2.97745374],\n",
       "       [3.09590651],\n",
       "       [3.20119787],\n",
       "       [2.96429232],\n",
       "       [3.20119787],\n",
       "       [3.20119787],\n",
       "       [3.14855219],\n",
       "       [2.9511309 ],\n",
       "       [3.20119787],\n",
       "       [3.20119787],\n",
       "       [3.17487503],\n",
       "       [3.17487503],\n",
       "       [3.20119787],\n",
       "       [2.96429232],\n",
       "       [3.17487503],\n",
       "       [3.26700496],\n",
       "       [3.10906793],\n",
       "       [3.20119787],\n",
       "       [3.17487503],\n",
       "       [3.20119787],\n",
       "       [3.20119787],\n",
       "       [3.28016638],\n",
       "       [3.20119787],\n",
       "       [3.20119787],\n",
       "       [3.20119787],\n",
       "       [3.20119787],\n",
       "       [3.20119787],\n",
       "       [3.20119787],\n",
       "       [3.13539077],\n",
       "       [3.33281206],\n",
       "       [3.20119787],\n",
       "       [3.20119787],\n",
       "       [3.16171361],\n",
       "       [3.20119787],\n",
       "       [3.20119787],\n",
       "       [3.2275207 ],\n",
       "       [2.93796948],\n",
       "       [3.13539077],\n",
       "       [3.20119787],\n",
       "       [3.2275207 ],\n",
       "       [3.20119787],\n",
       "       [3.20119787],\n",
       "       [3.39861915],\n",
       "       [3.20119787],\n",
       "       [3.06958367],\n",
       "       [3.20119787],\n",
       "       [3.20119787],\n",
       "       [3.06958367],\n",
       "       [3.20119787],\n",
       "       [3.20119787],\n",
       "       [3.33281206],\n",
       "       [2.96429232],\n",
       "       [3.20119787],\n",
       "       [3.13539077],\n",
       "       [3.17487503],\n",
       "       [3.06958367],\n",
       "       [3.14855219],\n",
       "       [3.20119787],\n",
       "       [3.18803645],\n",
       "       [2.93796948],\n",
       "       [3.00377658],\n",
       "       [3.20119787],\n",
       "       [3.20119787],\n",
       "       [3.20119787],\n",
       "       [3.20119787],\n",
       "       [3.20119787],\n",
       "       [3.20119787],\n",
       "       [3.24068212],\n",
       "       [3.00377658],\n",
       "       [3.20119787],\n",
       "       [3.33281206],\n",
       "       [3.20119787],\n",
       "       [3.20119787],\n",
       "       [3.17487503],\n",
       "       [3.2933278 ],\n",
       "       [3.17487503],\n",
       "       [3.17487503],\n",
       "       [3.26700496],\n",
       "       [3.20119787],\n",
       "       [3.10906793],\n",
       "       [3.14855219],\n",
       "       [3.20119787],\n",
       "       [3.3591349 ],\n",
       "       [3.13539077],\n",
       "       [3.30648922],\n",
       "       [3.13539077],\n",
       "       [3.18803645],\n",
       "       [3.09590651],\n",
       "       [3.20119787],\n",
       "       [3.13539077],\n",
       "       [3.31965064],\n",
       "       [3.13539077],\n",
       "       [3.20119787],\n",
       "       [3.04326084],\n",
       "       [3.20119787],\n",
       "       [3.20119787],\n",
       "       [3.17487503],\n",
       "       [3.20119787],\n",
       "       [3.26700496],\n",
       "       [3.20119787],\n",
       "       [3.20119787],\n",
       "       [3.10906793],\n",
       "       [3.26700496],\n",
       "       [3.13539077],\n",
       "       [3.13539077],\n",
       "       [3.06958367],\n",
       "       [2.93796948],\n",
       "       [3.14855219],\n",
       "       [3.13539077],\n",
       "       [3.20119787],\n",
       "       [3.14855219],\n",
       "       [3.20119787],\n",
       "       [3.26700496],\n",
       "       [3.13539077],\n",
       "       [3.13539077],\n",
       "       [3.13539077],\n",
       "       [3.20119787],\n",
       "       [3.00377658],\n",
       "       [3.13539077],\n",
       "       [3.24068212],\n",
       "       [3.06958367],\n",
       "       [3.12222935],\n",
       "       [3.20119787],\n",
       "       [3.04326084],\n",
       "       [3.12222935],\n",
       "       [3.20119787],\n",
       "       [3.13539077]])"
      ]
     },
     "execution_count": 33,
     "metadata": {},
     "output_type": "execute_result"
    }
   ],
   "source": [
    "y_predicted"
   ]
  },
  {
   "cell_type": "code",
   "execution_count": 34,
   "id": "c1991d49",
   "metadata": {},
   "outputs": [
    {
     "data": {
      "text/html": [
       "<div>\n",
       "<style scoped>\n",
       "    .dataframe tbody tr th:only-of-type {\n",
       "        vertical-align: middle;\n",
       "    }\n",
       "\n",
       "    .dataframe tbody tr th {\n",
       "        vertical-align: top;\n",
       "    }\n",
       "\n",
       "    .dataframe thead th {\n",
       "        text-align: right;\n",
       "    }\n",
       "</style>\n",
       "<table border=\"1\" class=\"dataframe\">\n",
       "  <thead>\n",
       "    <tr style=\"text-align: right;\">\n",
       "      <th></th>\n",
       "      <th>Actual</th>\n",
       "      <th>Predicted</th>\n",
       "    </tr>\n",
       "  </thead>\n",
       "  <tbody>\n",
       "    <tr>\n",
       "      <th>0</th>\n",
       "      <td>2.50</td>\n",
       "      <td>3.135391</td>\n",
       "    </tr>\n",
       "    <tr>\n",
       "      <th>1</th>\n",
       "      <td>2.75</td>\n",
       "      <td>3.174875</td>\n",
       "    </tr>\n",
       "    <tr>\n",
       "      <th>2</th>\n",
       "      <td>2.50</td>\n",
       "      <td>3.201198</td>\n",
       "    </tr>\n",
       "    <tr>\n",
       "      <th>3</th>\n",
       "      <td>3.25</td>\n",
       "      <td>3.201198</td>\n",
       "    </tr>\n",
       "    <tr>\n",
       "      <th>4</th>\n",
       "      <td>3.25</td>\n",
       "      <td>3.069584</td>\n",
       "    </tr>\n",
       "    <tr>\n",
       "      <th>5</th>\n",
       "      <td>2.75</td>\n",
       "      <td>3.398619</td>\n",
       "    </tr>\n",
       "    <tr>\n",
       "      <th>6</th>\n",
       "      <td>3.50</td>\n",
       "      <td>3.201198</td>\n",
       "    </tr>\n",
       "    <tr>\n",
       "      <th>7</th>\n",
       "      <td>2.50</td>\n",
       "      <td>3.135391</td>\n",
       "    </tr>\n",
       "    <tr>\n",
       "      <th>8</th>\n",
       "      <td>3.50</td>\n",
       "      <td>3.253844</td>\n",
       "    </tr>\n",
       "    <tr>\n",
       "      <th>9</th>\n",
       "      <td>3.50</td>\n",
       "      <td>3.267005</td>\n",
       "    </tr>\n",
       "    <tr>\n",
       "      <th>10</th>\n",
       "      <td>2.75</td>\n",
       "      <td>3.280166</td>\n",
       "    </tr>\n",
       "    <tr>\n",
       "      <th>11</th>\n",
       "      <td>3.50</td>\n",
       "      <td>3.201198</td>\n",
       "    </tr>\n",
       "    <tr>\n",
       "      <th>12</th>\n",
       "      <td>3.00</td>\n",
       "      <td>3.267005</td>\n",
       "    </tr>\n",
       "    <tr>\n",
       "      <th>13</th>\n",
       "      <td>3.50</td>\n",
       "      <td>3.201198</td>\n",
       "    </tr>\n",
       "    <tr>\n",
       "      <th>14</th>\n",
       "      <td>3.25</td>\n",
       "      <td>3.135391</td>\n",
       "    </tr>\n",
       "    <tr>\n",
       "      <th>15</th>\n",
       "      <td>2.75</td>\n",
       "      <td>3.069584</td>\n",
       "    </tr>\n",
       "    <tr>\n",
       "      <th>16</th>\n",
       "      <td>1.50</td>\n",
       "      <td>3.003777</td>\n",
       "    </tr>\n",
       "    <tr>\n",
       "      <th>17</th>\n",
       "      <td>3.00</td>\n",
       "      <td>3.174875</td>\n",
       "    </tr>\n",
       "    <tr>\n",
       "      <th>18</th>\n",
       "      <td>2.75</td>\n",
       "      <td>3.201198</td>\n",
       "    </tr>\n",
       "    <tr>\n",
       "      <th>19</th>\n",
       "      <td>3.75</td>\n",
       "      <td>3.201198</td>\n",
       "    </tr>\n",
       "    <tr>\n",
       "      <th>20</th>\n",
       "      <td>3.00</td>\n",
       "      <td>3.201198</td>\n",
       "    </tr>\n",
       "    <tr>\n",
       "      <th>21</th>\n",
       "      <td>3.50</td>\n",
       "      <td>3.161714</td>\n",
       "    </tr>\n",
       "    <tr>\n",
       "      <th>22</th>\n",
       "      <td>2.75</td>\n",
       "      <td>3.398619</td>\n",
       "    </tr>\n",
       "    <tr>\n",
       "      <th>23</th>\n",
       "      <td>3.00</td>\n",
       "      <td>2.806355</td>\n",
       "    </tr>\n",
       "    <tr>\n",
       "      <th>24</th>\n",
       "      <td>3.00</td>\n",
       "      <td>3.332812</td>\n",
       "    </tr>\n",
       "    <tr>\n",
       "      <th>25</th>\n",
       "      <td>3.00</td>\n",
       "      <td>3.135391</td>\n",
       "    </tr>\n",
       "    <tr>\n",
       "      <th>26</th>\n",
       "      <td>3.00</td>\n",
       "      <td>3.135391</td>\n",
       "    </tr>\n",
       "    <tr>\n",
       "      <th>27</th>\n",
       "      <td>3.50</td>\n",
       "      <td>3.227521</td>\n",
       "    </tr>\n",
       "    <tr>\n",
       "      <th>28</th>\n",
       "      <td>3.00</td>\n",
       "      <td>3.201198</td>\n",
       "    </tr>\n",
       "    <tr>\n",
       "      <th>29</th>\n",
       "      <td>3.75</td>\n",
       "      <td>3.227521</td>\n",
       "    </tr>\n",
       "  </tbody>\n",
       "</table>\n",
       "</div>"
      ],
      "text/plain": [
       "    Actual  Predicted\n",
       "0     2.50   3.135391\n",
       "1     2.75   3.174875\n",
       "2     2.50   3.201198\n",
       "3     3.25   3.201198\n",
       "4     3.25   3.069584\n",
       "5     2.75   3.398619\n",
       "6     3.50   3.201198\n",
       "7     2.50   3.135391\n",
       "8     3.50   3.253844\n",
       "9     3.50   3.267005\n",
       "10    2.75   3.280166\n",
       "11    3.50   3.201198\n",
       "12    3.00   3.267005\n",
       "13    3.50   3.201198\n",
       "14    3.25   3.135391\n",
       "15    2.75   3.069584\n",
       "16    1.50   3.003777\n",
       "17    3.00   3.174875\n",
       "18    2.75   3.201198\n",
       "19    3.75   3.201198\n",
       "20    3.00   3.201198\n",
       "21    3.50   3.161714\n",
       "22    2.75   3.398619\n",
       "23    3.00   2.806355\n",
       "24    3.00   3.332812\n",
       "25    3.00   3.135391\n",
       "26    3.00   3.135391\n",
       "27    3.50   3.227521\n",
       "28    3.00   3.201198\n",
       "29    3.75   3.227521"
      ]
     },
     "execution_count": 34,
     "metadata": {},
     "output_type": "execute_result"
    }
   ],
   "source": [
    "# Create a dataframe comparing the actual and predicted values of y.\n",
    "\n",
    "data = pd.DataFrame({'Actual': y_test.flatten(), 'Predicted': y_predicted.flatten()})\n",
    "data.head(30)"
   ]
  },
  {
   "cell_type": "code",
   "execution_count": 35,
   "id": "016a8177",
   "metadata": {},
   "outputs": [],
   "source": [
    "# Predict.\n",
    "\n",
    "y_predicted_train = regression.predict(X_train)"
   ]
  },
  {
   "cell_type": "code",
   "execution_count": 36,
   "id": "858f2a61",
   "metadata": {},
   "outputs": [],
   "source": [
    "rmse = mean_squared_error(y_train, y_predicted_train)\n",
    "r2 = r2_score(y_train, y_predicted_train)"
   ]
  },
  {
   "cell_type": "code",
   "execution_count": 37,
   "id": "fc4cdc76",
   "metadata": {},
   "outputs": [
    {
     "name": "stdout",
     "output_type": "stream",
     "text": [
      "Slope: [[-1.31614192]]\n",
      "Mean squared error:  0.22771898839684368\n",
      "R2 score:  0.029912878654747233\n"
     ]
    }
   ],
   "source": [
    "print('Slope:' ,regression.coef_)\n",
    "print('Mean squared error: ', rmse)\n",
    "print('R2 score: ', r2)"
   ]
  },
  {
   "cell_type": "code",
   "execution_count": 38,
   "id": "0876da55",
   "metadata": {},
   "outputs": [
    {
     "data": {
      "image/png": "[encoded data removed]",
      "text/plain": [
       "<Figure size 640x480 with 1 Axes>"
      ]
     },
     "metadata": {},
     "output_type": "display_data"
    }
   ],
   "source": [
    "# Visualizing the training set results.\n",
    "\n",
    "plot_test = plt\n",
    "plot_test.scatter(X_train, y_train, color='green', s = 15)\n",
    "plot_test.plot(X_train, y_predicted_train, color='red', linewidth =3)\n",
    "plot_test.title('Cocoa Percent vs Rating (Train set)')\n",
    "plot_test.xlabel('Cocoa Percent')\n",
    "plot_test.ylabel('Rating')\n",
    "plot_test.show()"
   ]
  },
  {
   "cell_type": "markdown",
   "id": "944a78a6",
   "metadata": {},
   "source": [
    "The model only fits the training set only slightly better than the test set. For both models, the R2 score is very low, which shows the the model is a poor fit and the relationship of the data variables is not purely linear."
   ]
  },
  {
   "cell_type": "code",
   "execution_count": null,
   "id": "1aeca197",
   "metadata": {},
   "outputs": [],
   "source": []
  }
 ],
 "metadata": {
  "kernelspec": {
   "display_name": "Python 3 (ipykernel)",
   "language": "python",
   "name": "python3"
  },
  "language_info": {
   "codemirror_mode": {
    "name": "ipython",
    "version": 3
   },
   "file_extension": ".py",
   "mimetype": "text/x-python",
   "name": "python",
   "nbconvert_exporter": "python",
   "pygments_lexer": "ipython3",
   "version": "3.9.13"
  }
 },
 "nbformat": 4,
 "nbformat_minor": 5
}
